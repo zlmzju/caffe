{
 "cells": [
  {
   "cell_type": "code",
   "execution_count": 1,
   "metadata": {},
   "outputs": [
    {
     "name": "stdout",
     "output_type": "stream",
     "text": [
      "<module 'mxnet' from '/home/liming/project/mxnet/python/mxnet/__init__.py'>\n"
     ]
    }
   ],
   "source": [
    "import numpy as np\n",
    "import mxnet as mx\n",
    "print mx"
   ]
  },
  {
   "cell_type": "code",
   "execution_count": 8,
   "metadata": {},
   "outputs": [
    {
     "name": "stdout",
     "output_type": "stream",
     "text": [
      "[[[[ 0.5488135   0.71518937  0.60276338  0.54488318]\n",
      "   [ 0.4236548   0.64589411  0.43758721  0.891773  ]\n",
      "   [ 0.96366276  0.38344152  0.79172504  0.52889492]]\n",
      "\n",
      "  [[ 0.56804456  0.92559664  0.07103606  0.0871293 ]\n",
      "   [ 0.0202184   0.83261985  0.77815675  0.87001215]\n",
      "   [ 0.97861834  0.79915856  0.46147936  0.78052918]]]]\n"
     ]
    }
   ],
   "source": [
    "N, C, H, W =  (1, 2, 3, 4)\n",
    "np.random.seed(0)\n",
    "input_data = np.random.rand(N, C, H, W)\n",
    "input_offset = np.random.rand(N, 18, H, W)\n",
    "input_weight = np.random.normal(0, 0.001, (C, C, 3, 3))\n",
    "input_bias = np.zeros(C)\n",
    "print input_data"
   ]
  },
  {
   "cell_type": "code",
   "execution_count": null,
   "metadata": {
    "collapsed": true
   },
   "outputs": [],
   "source": []
  },
  {
   "cell_type": "code",
   "execution_count": 9,
   "metadata": {},
   "outputs": [
    {
     "name": "stdout",
     "output_type": "stream",
     "text": [
      "\n",
      "[[[[  1.49604969e-03   2.18806020e-03   3.34350765e-03   1.43301091e-03]\n",
      "   [  3.01993266e-03   2.28476804e-03   2.77834246e-03   2.22456804e-03]\n",
      "   [  2.56538996e-03   2.52053351e-03   2.60284822e-03   2.72818282e-03]]\n",
      "\n",
      "  [[  2.18065968e-03   1.57228019e-03   6.88405242e-04   2.15546694e-03]\n",
      "   [  5.00564929e-04   6.68772554e-05   1.11989083e-03   8.10382771e-04]\n",
      "   [  1.43623911e-04  -9.10360308e-04  -1.34000159e-03  -6.47203531e-04]]]]\n",
      "<NDArray 1x2x3x4 @gpu(0)>\n"
     ]
    }
   ],
   "source": [
    "im_data_var = mx.symbol.Variable(name=\"im_data\")\n",
    "offset_data_var = mx.symbol.Variable(name=\"offset_data\")\n",
    "weight_var = mx.symbol.Variable(name=\"weight\")\n",
    "bias_var = mx.symbol.Variable(name=\"bias\")\n",
    "op = mx.sym.contrib.DeformableConvolution(name='test_op', data=im_data_var,\n",
    "                                          offset=offset_data_var,\n",
    "                                          weight=weight_var, bias=bias_var,\n",
    "                                          num_filter=C, pad=1,\n",
    "                                          kernel=(3, 3), stride=(1, 1), dilate=1,\n",
    "                                          num_deformable_group=1)\n",
    "context = mx.gpu(0)\n",
    "ex = op.bind(ctx=context, args={'im_data' : mx.nd.array(input_data, context),\n",
    "                                'offset_data' : mx.nd.array(input_offset, context),\n",
    "                               'weight': mx.nd.array(input_weight, context),\n",
    "                               'bias': mx.nd.array(input_bias, context)})\n",
    "# ex = op.bind(ctx=context, args={'im_data' : mx.nd.array(input_data, context),\n",
    "#                                'weight': mx.nd.array(input_weight, context),\n",
    "#                                'bias': mx.nd.array(input_bias, context)})\n",
    "y = ex.forward()\n",
    "print y[0]"
   ]
  },
  {
   "cell_type": "code",
   "execution_count": 4,
   "metadata": {},
   "outputs": [
    {
     "data": {
      "text/plain": [
       "\n",
       "[[[[ 0.54881352  0.71518934  0.60276335  0.54488319]\n",
       "   [ 0.42365479  0.64589411  0.4375872   0.89177299]\n",
       "   [ 0.96366274  0.38344151  0.79172504  0.5288949 ]]\n",
       "\n",
       "  [[ 0.56804454  0.92559665  0.07103606  0.0871293 ]\n",
       "   [ 0.0202184   0.83261985  0.77815676  0.87001216]\n",
       "   [ 0.97861832  0.79915857  0.46147937  0.7805292 ]]]]\n",
       "<NDArray 1x2x3x4 @gpu(0)>"
      ]
     },
     "execution_count": 4,
     "metadata": {},
     "output_type": "execute_result"
    }
   ],
   "source": [
    "mx.nd.array(input_data, context)"
   ]
  },
  {
   "cell_type": "code",
   "execution_count": null,
   "metadata": {
    "collapsed": true
   },
   "outputs": [],
   "source": []
  },
  {
   "cell_type": "code",
   "execution_count": null,
   "metadata": {
    "collapsed": true
   },
   "outputs": [],
   "source": []
  }
 ],
 "metadata": {
  "kernelspec": {
   "display_name": "Python [conda root]",
   "language": "python",
   "name": "conda-root-py"
  },
  "language_info": {
   "codemirror_mode": {
    "name": "ipython",
    "version": 2
   },
   "file_extension": ".py",
   "mimetype": "text/x-python",
   "name": "python",
   "nbconvert_exporter": "python",
   "pygments_lexer": "ipython2",
   "version": "2.7.13"
  }
 },
 "nbformat": 4,
 "nbformat_minor": 2
}
