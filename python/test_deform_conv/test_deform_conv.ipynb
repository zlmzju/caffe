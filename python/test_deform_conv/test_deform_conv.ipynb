{
 "cells": [
  {
   "cell_type": "code",
   "execution_count": 1,
   "metadata": {
    "collapsed": false
   },
   "outputs": [
    {
     "name": "stdout",
     "output_type": "stream",
     "text": [
      "NVCC src/caffe/util/deformable_im2col.cu\n",
      "src/caffe/util/deformable_im2col.cu(397): error: no instance of function template \"caffe::deformable_col2im_gpu_kernel\" matches the argument list\n",
      "            argument types are: (int, const float *, const float *, const float *, const int, const int, const int, const int, const int, const int, const int, const int, const int, const int, const int, int, int, int, float *)\n",
      "          detected during instantiation of \"void caffe::deformable_col2im_coord_gpu(const Dtype *, const Dtype *, const Dtype *, int, int, int, int, int, int, int, int, int, int, int, uint32_t, Dtype *) [with Dtype=float]\" \n",
      "(405): here\n",
      "\n",
      "src/caffe/util/deformable_im2col.cu(397): error: no instance of function template \"caffe::deformable_col2im_gpu_kernel\" matches the argument list\n",
      "            argument types are: (int, const double *, const double *, const double *, const int, const int, const int, const int, const int, const int, const int, const int, const int, const int, const int, int, int, int, double *)\n",
      "          detected during instantiation of \"void caffe::deformable_col2im_coord_gpu(const Dtype *, const Dtype *, const Dtype *, int, int, int, int, int, int, int, int, int, int, int, uint32_t, Dtype *) [with Dtype=double]\" \n",
      "(411): here\n",
      "\n",
      "2 errors detected in the compilation of \"/tmp/tmpxft_00001476_00000000-11_deformable_im2col.compute_50.cpp1.ii\".\n",
      "make: *** [.build_release/cuda/src/caffe/util/deformable_im2col.o] Error 1\n",
      "<module 'caffe' from '../caffe/__init__.py'>\n"
     ]
    }
   ],
   "source": [
    "import numpy as np\n",
    "import sys\n",
    "sys.path.insert(0,'../')\n",
    "!cd ../../;make;cd python/test_deform_conv/\n",
    "import caffe\n",
    "print caffe"
   ]
  },
  {
   "cell_type": "code",
   "execution_count": 2,
   "metadata": {
    "collapsed": true
   },
   "outputs": [],
   "source": [
    "proto_str=\"\"\"\n",
    "force_backward: true\n",
    "input: \"data\"\n",
    "input_dim: 1\n",
    "input_dim: 1\n",
    "input_dim: 4\n",
    "input_dim: 4\n",
    "layer{\n",
    "    name: \"offset\"\n",
    "    type: \"Convolution\"\n",
    "    bottom: \"data\"\n",
    "    top: \"offset\"\n",
    "    param{\n",
    "        lr_mult: 1\n",
    "        decay_mult: 1\n",
    "    }\n",
    "    param{\n",
    "        lr_mult: 2\n",
    "        decay_mult: 0\n",
    "    }\n",
    "    convolution_param{\n",
    "        num_output: 8\n",
    "        kernel_size: 2\n",
    "        pad: 0\n",
    "        stride: 2\n",
    "        weight_filler{\n",
    "            type: \"constant\"\n",
    "            value: 0\n",
    "        }\n",
    "        bias_filler{\n",
    "            type: \"constant\"\n",
    "            value: 0\n",
    "        }\n",
    "    }\n",
    "}\n",
    "layer{\n",
    "    name: \"dconv\"\n",
    "    type: \"DeformableConvolution\"\n",
    "#    type: \"Convolution\"\n",
    "    bottom: \"data\"\n",
    "    bottom: \"offset\"\n",
    "    top: \"dconv\"\n",
    "    param{\n",
    "        lr_mult: 1\n",
    "        decay_mult: 1\n",
    "    }\n",
    "    param{\n",
    "        lr_mult: 2\n",
    "        decay_mult: 0\n",
    "    }\n",
    "    convolution_param{\n",
    "        num_output: 1\n",
    "        kernel_size: 2\n",
    "        pad: 0\n",
    "        stride: 2\n",
    "        weight_filler{\n",
    "            type: \"constant\"\n",
    "            value: 1\n",
    "        }\n",
    "        bias_filler{\n",
    "            type: \"constant\"\n",
    "            value: 0\n",
    "        }\n",
    "    }\n",
    "    loss_weight: 1\n",
    "}\n",
    "\"\"\"\n",
    "proto_file=open('deform_conv.prototxt','w')\n",
    "proto_file.write(proto_str)\n",
    "proto_file.close()"
   ]
  },
  {
   "cell_type": "code",
   "execution_count": 3,
   "metadata": {
    "collapsed": false
   },
   "outputs": [],
   "source": [
    "caffe.set_mode_gpu()\n",
    "net = caffe.Net('deform_conv.prototxt', caffe.TEST)"
   ]
  },
  {
   "cell_type": "code",
   "execution_count": 4,
   "metadata": {
    "collapsed": false
   },
   "outputs": [],
   "source": [
    "data=net.blobs['data'].data\n",
    "offset=net.blobs['offset'].data\n",
    "dconv=net.blobs['dconv'].data\n",
    "dweight=net.params['dconv'][0].data\n",
    "dbias=net.params['dconv'][1].data"
   ]
  },
  {
   "cell_type": "code",
   "execution_count": 5,
   "metadata": {
    "collapsed": false
   },
   "outputs": [
    {
     "name": "stdout",
     "output_type": "stream",
     "text": [
      "data.shape: (1, 1, 4, 4)\n",
      "offset.shape: (1, 8, 2, 2)\n",
      "dconv.shape: (1, 1, 2, 2)\n",
      "dweight.shape: (1, 1, 2, 2)\n",
      "dbias.shape: (1,)\n"
     ]
    }
   ],
   "source": [
    "print 'data.shape:',data.shape\n",
    "print 'offset.shape:',offset.shape\n",
    "print 'dconv.shape:',dconv.shape\n",
    "print 'dweight.shape:',dweight.shape\n",
    "print 'dbias.shape:',dbias.shape"
   ]
  },
  {
   "cell_type": "code",
   "execution_count": 6,
   "metadata": {
    "collapsed": false,
    "scrolled": true
   },
   "outputs": [
    {
     "name": "stdout",
     "output_type": "stream",
     "text": [
      "[[[[ 1.  2.  3.  4.]\n",
      "   [ 4.  3.  2.  1.]\n",
      "   [ 1.  2.  3.  4.]\n",
      "   [ 4.  3.  2.  1.]]]]\n",
      "[[[[ 1.  1.]\n",
      "   [ 1.  1.]]]]\n"
     ]
    }
   ],
   "source": [
    "data[:] = np.array([[[ [ 1, 2, 3, 4],\n",
    "                       [ 4, 3, 2, 1],\n",
    "                       [ 1, 2, 3, 4],\n",
    "                       [ 4, 3, 2, 1]]]])\n",
    "\n",
    "print data\n",
    "print dweight"
   ]
  },
  {
   "cell_type": "code",
   "execution_count": 7,
   "metadata": {
    "collapsed": false
   },
   "outputs": [
    {
     "data": {
      "text/plain": [
       "{'dconv': array([[[[ 10.,  10.],\n",
       "          [ 10.,  10.]]]], dtype=float32)}"
      ]
     },
     "execution_count": 7,
     "metadata": {},
     "output_type": "execute_result"
    }
   ],
   "source": [
    "net.forward()"
   ]
  },
  {
   "cell_type": "code",
   "execution_count": 8,
   "metadata": {
    "collapsed": false,
    "scrolled": false
   },
   "outputs": [
    {
     "name": "stdout",
     "output_type": "stream",
     "text": [
      "[[[[ 0.  0.]\n",
      "   [ 0.  0.]]\n",
      "\n",
      "  [[ 0.  0.]\n",
      "   [ 0.  0.]]\n",
      "\n",
      "  [[ 0.  0.]\n",
      "   [ 0.  0.]]\n",
      "\n",
      "  [[ 0.  0.]\n",
      "   [ 0.  0.]]\n",
      "\n",
      "  [[ 0.  0.]\n",
      "   [ 0.  0.]]\n",
      "\n",
      "  [[ 0.  0.]\n",
      "   [ 0.  0.]]\n",
      "\n",
      "  [[ 0.  0.]\n",
      "   [ 0.  0.]]\n",
      "\n",
      "  [[ 0.  0.]\n",
      "   [ 0.  0.]]]]\n"
     ]
    }
   ],
   "source": [
    "print net.blobs['offset'].data"
   ]
  },
  {
   "cell_type": "code",
   "execution_count": 9,
   "metadata": {
    "collapsed": false
   },
   "outputs": [
    {
     "data": {
      "text/plain": [
       "{'data': array([[[[ 1.,  1.,  1.,  1.],\n",
       "          [ 1.,  1.,  1.,  1.],\n",
       "          [ 1.,  1.,  1.,  1.],\n",
       "          [ 1.,  1.,  1.,  1.]]]], dtype=float32)}"
      ]
     },
     "execution_count": 9,
     "metadata": {},
     "output_type": "execute_result"
    }
   ],
   "source": [
    "net.backward()"
   ]
  },
  {
   "cell_type": "code",
   "execution_count": 10,
   "metadata": {
    "collapsed": false
   },
   "outputs": [
    {
     "name": "stdout",
     "output_type": "stream",
     "text": [
      "[[[[ 10.  10.]\n",
      "   [ 10.  10.]]]]\n"
     ]
    }
   ],
   "source": [
    "print net.params['dconv'][0].diff"
   ]
  },
  {
   "cell_type": "code",
   "execution_count": 11,
   "metadata": {
    "collapsed": false
   },
   "outputs": [
    {
     "name": "stdout",
     "output_type": "stream",
     "text": [
      "[[[[ 1.  1.  1.  1.]\n",
      "   [ 1.  1.  1.  1.]\n",
      "   [ 1.  1.  1.  1.]\n",
      "   [ 1.  1.  1.  1.]]]]\n"
     ]
    }
   ],
   "source": [
    "print net.blobs['data'].diff"
   ]
  },
  {
   "cell_type": "code",
   "execution_count": 12,
   "metadata": {
    "collapsed": false
   },
   "outputs": [
    {
     "name": "stdout",
     "output_type": "stream",
     "text": [
      "[[[[ 1.     1.   ]\n",
      "   [ 1.     1.   ]]\n",
      "\n",
      "  [[ 1.     1.   ]\n",
      "   [ 1.     1.   ]]\n",
      "\n",
      "  [[ 1.     1.   ]\n",
      "   [ 1.     1.   ]]\n",
      "\n",
      "  [[ 1.     1.   ]\n",
      "   [ 1.     1.   ]]\n",
      "\n",
      "  [[-1.     0.   ]\n",
      "   [ 0.     0.   ]]\n",
      "\n",
      "  [[ 1.     0.1  ]\n",
      "   [ 0.     0.1  ]]\n",
      "\n",
      "  [[ 0.     0.   ]\n",
      "   [ 1.875 -1.875]]\n",
      "\n",
      "  [[-1.     0.1  ]\n",
      "   [ 0.     0.1  ]]]]\n"
     ]
    }
   ],
   "source": [
    "print net.blobs['offset'].diff"
   ]
  },
  {
   "cell_type": "code",
   "execution_count": null,
   "metadata": {
    "collapsed": true
   },
   "outputs": [],
   "source": []
  }
 ],
 "metadata": {
  "anaconda-cloud": {},
  "kernelspec": {
   "display_name": "Python [conda root]",
   "language": "python",
   "name": "conda-root-py"
  },
  "language_info": {
   "codemirror_mode": {
    "name": "ipython",
    "version": 2
   },
   "file_extension": ".py",
   "mimetype": "text/x-python",
   "name": "python",
   "nbconvert_exporter": "python",
   "pygments_lexer": "ipython2",
   "version": "2.7.13"
  }
 },
 "nbformat": 4,
 "nbformat_minor": 2
}
