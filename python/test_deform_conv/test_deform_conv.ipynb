{
 "cells": [
  {
   "cell_type": "code",
   "execution_count": 1,
   "metadata": {},
   "outputs": [
    {
     "name": "stdout",
     "output_type": "stream",
     "text": [
      "<module 'caffe' from '../caffe/__init__.py'>\n"
     ]
    }
   ],
   "source": [
    "import numpy as np\n",
    "import sys\n",
    "sys.path.insert(0,'../')\n",
    "import caffe\n",
    "print caffe"
   ]
  },
  {
   "cell_type": "code",
   "execution_count": 13,
   "metadata": {
    "collapsed": true
   },
   "outputs": [],
   "source": [
    "proto_str=\"\"\"\n",
    "input: \"data\"\n",
    "input_dim: 1\n",
    "input_dim: 1\n",
    "input_dim: 3\n",
    "input_dim: 4\n",
    "\n",
    "input: \"offset\"\n",
    "input_dim: 1\n",
    "input_dim: 18\n",
    "input_dim: 3\n",
    "input_dim: 4\n",
    "\n",
    "layer{\n",
    "    name: \"dconv\"\n",
    "    type: \"DeformableConvolution\"\n",
    "    bottom: \"data\"\n",
    "    bottom: \"offset\"\n",
    "    top: \"dconv\"\n",
    "    param{\n",
    "        lr_mult: 1\n",
    "        decay_mult: 1\n",
    "    }\n",
    "    param{\n",
    "        lr_mult: 2\n",
    "        decay_mult: 0\n",
    "    }\n",
    "    convolution_param{\n",
    "        num_output: 1\n",
    "        kernel_size: 3\n",
    "        pad: 1\n",
    "        stride: 1\n",
    "        weight_filler{\n",
    "            type: \"constant\"\n",
    "            value: 0\n",
    "        }\n",
    "        bias_filler{\n",
    "            type: \"constant\"\n",
    "            value: 0\n",
    "        }\n",
    "    }\n",
    "    loss_weight: 1\n",
    "}\n",
    "\"\"\"\n",
    "proto_file=open('deform_conv.prototxt','w')\n",
    "proto_file.write(proto_str)\n",
    "proto_file.close()"
   ]
  },
  {
   "cell_type": "code",
   "execution_count": 3,
   "metadata": {
    "collapsed": true
   },
   "outputs": [],
   "source": [
    "caffe.set_device(0)\n",
    "caffe.set_mode_gpu()\n",
    "net = caffe.Net('deform_conv.prototxt', caffe.TEST)"
   ]
  },
  {
   "cell_type": "code",
   "execution_count": 17,
   "metadata": {},
   "outputs": [
    {
     "name": "stdout",
     "output_type": "stream",
     "text": [
      "[[[[ 0.5488135   0.71518937  0.60276338  0.54488318]\n",
      "   [ 0.4236548   0.64589411  0.43758721  0.891773  ]\n",
      "   [ 0.96366276  0.38344152  0.79172504  0.52889492]]\n",
      "\n",
      "  [[ 0.56804456  0.92559664  0.07103606  0.0871293 ]\n",
      "   [ 0.0202184   0.83261985  0.77815675  0.87001215]\n",
      "   [ 0.97861834  0.79915856  0.46147936  0.78052918]]]]\n",
      "[[[[ 0.11827443  0.63992102  0.14335329  0.94466892]\n",
      "   [ 0.52184832  0.41466194  0.26455561  0.77423369]\n",
      "   [ 0.45615033  0.56843395  0.0187898   0.6176355 ]]\n",
      "\n",
      "  [[ 0.61209572  0.616934    0.94374808  0.6818203 ]\n",
      "   [ 0.3595079   0.43703195  0.6976312   0.06022547]\n",
      "   [ 0.66676672  0.67063787  0.21038256  0.1289263 ]]\n",
      "\n",
      "  [[ 0.31542835  0.36371077  0.57019677  0.43860151]\n",
      "   [ 0.98837384  0.10204481  0.20887676  0.16130952]\n",
      "   [ 0.65310833  0.2532916   0.46631077  0.24442559]]\n",
      "\n",
      "  [[ 0.15896958  0.11037514  0.65632959  0.13818295]\n",
      "   [ 0.19658236  0.36872517  0.82099323  0.09710128]\n",
      "   [ 0.83794491  0.09609841  0.97645947  0.4686512 ]]\n",
      "\n",
      "  [[ 0.97676109  0.60484552  0.73926358  0.03918779]\n",
      "   [ 0.28280696  0.12019656  0.2961402   0.11872772]\n",
      "   [ 0.31798318  0.41426299  0.0641475   0.69247212]]\n",
      "\n",
      "  [[ 0.56660145  0.26538949  0.52324805  0.09394051]\n",
      "   [ 0.5759465   0.9292962   0.31856895  0.66741038]\n",
      "   [ 0.13179786  0.7163272   0.28940609  0.18319136]]\n",
      "\n",
      "  [[ 0.58651293  0.02010755  0.82894003  0.00469548]\n",
      "   [ 0.67781654  0.27000797  0.73519402  0.96218855]\n",
      "   [ 0.24875314  0.57615733  0.59204193  0.57225191]]\n",
      "\n",
      "  [[ 0.22308163  0.95274901  0.44712538  0.84640867]\n",
      "   [ 0.69947928  0.29743695  0.81379782  0.39650574]\n",
      "   [ 0.8811032   0.58127287  0.88173536  0.69253159]]\n",
      "\n",
      "  [[ 0.72525428  0.50132438  0.95608363  0.6439902 ]\n",
      "   [ 0.42385505  0.60639321  0.0191932   0.30157482]\n",
      "   [ 0.66017354  0.29007761  0.61801543  0.4287687 ]]\n",
      "\n",
      "  [[ 0.13547406  0.29828233  0.56996491  0.59087276]\n",
      "   [ 0.57432525  0.65320082  0.65210327  0.43141844]\n",
      "   [ 0.8965466   0.36756187  0.43586493  0.89192336]]\n",
      "\n",
      "  [[ 0.80619399  0.70388858  0.10022689  0.91948261]\n",
      "   [ 0.7142413   0.99884701  0.1494483   0.86812606]\n",
      "   [ 0.16249293  0.61555956  0.12381998  0.84800823]]\n",
      "\n",
      "  [[ 0.80731896  0.56910074  0.4071833   0.069167  ]\n",
      "   [ 0.69742877  0.45354268  0.7220556   0.86638233]\n",
      "   [ 0.97552151  0.85580334  0.01171408  0.35997806]]\n",
      "\n",
      "  [[ 0.72999056  0.17162968  0.52103661  0.05433799]\n",
      "   [ 0.19999652  0.01852179  0.7936977   0.22392469]\n",
      "   [ 0.34535168  0.92808129  0.7044144   0.03183893]]\n",
      "\n",
      "  [[ 0.16469416  0.6214784   0.57722859  0.23789282]\n",
      "   [ 0.934214    0.61396596  0.5356328   0.58990998]\n",
      "   [ 0.73012203  0.311945    0.39822106  0.20984375]]\n",
      "\n",
      "  [[ 0.18619301  0.94437239  0.7395508   0.49045881]\n",
      "   [ 0.22741463  0.25435648  0.05802916  0.43441663]\n",
      "   [ 0.31179588  0.69634349  0.37775184  0.17960368]]\n",
      "\n",
      "  [[ 0.02467873  0.06724963  0.67939277  0.45369684]\n",
      "   [ 0.53657921  0.89667129  0.99033895  0.21689698]\n",
      "   [ 0.6630782   0.26332238  0.020651    0.75837865]]\n",
      "\n",
      "  [[ 0.32001715  0.38346389  0.58831711  0.83104846]\n",
      "   [ 0.62898184  0.87265066  0.27354203  0.79804683]\n",
      "   [ 0.18563594  0.95279166  0.68748828  0.21550768]]\n",
      "\n",
      "  [[ 0.94737059  0.73085581  0.25394164  0.21331198]\n",
      "   [ 0.51820071  0.02566272  0.20747008  0.42468547]\n",
      "   [ 0.37416998  0.46357542  0.27762871  0.58678435]]]]\n"
     ]
    }
   ],
   "source": [
    "N, C, H, W =  (1, 2, 3, 4)\n",
    "np.random.seed(0)\n",
    "input_data = np.random.rand(N, C, H, W)\n",
    "input_offset = np.random.rand(N, 18, H, W)\n",
    "input_weight = np.ones((C, C, 3, 3))\n",
    "input_bias = np.zeros(C)\n",
    "print input_data\n",
    "print input_offset"
   ]
  },
  {
   "cell_type": "code",
   "execution_count": 15,
   "metadata": {},
   "outputs": [
    {
     "data": {
      "text/plain": [
       "{'dconv': array([[[[  3.91367221,   8.10268307,   7.7055068 ,   4.8841548 ],\n",
       "          [  7.0467968 ,  10.74616814,  11.21919441,   7.43512058],\n",
       "          [  5.18391657,   8.17951488,   8.52711105,   5.52305508]],\n",
       " \n",
       "         [[  3.91367221,   8.10268307,   7.7055068 ,   4.8841548 ],\n",
       "          [  7.0467968 ,  10.74616814,  11.21919441,   7.43512058],\n",
       "          [  5.18391657,   8.17951488,   8.52711105,   5.52305508]]]], dtype=float32)}"
      ]
     },
     "execution_count": 15,
     "metadata": {},
     "output_type": "execute_result"
    }
   ],
   "source": [
    "net.blobs['data'].reshape(*input_data.shape)\n",
    "net.blobs['data'].data[:] = input_data.copy()\n",
    "net.blobs['offset'].reshape(*input_offset.shape)\n",
    "net.blobs['offset'].data[:] = input_offset.copy()\n",
    "net.params['dconv'][0].reshape(*input_weight.shape)\n",
    "net.params['dconv'][0].data[:] = input_weight.copy()\n",
    "net.params['dconv'][1].reshape(*input_bias.shape)\n",
    "net.params['dconv'][1].data[:] = input_bias.copy()\n",
    "net.forward()"
   ]
  },
  {
   "cell_type": "code",
   "execution_count": 21,
   "metadata": {},
   "outputs": [
    {
     "name": "stdout",
     "output_type": "stream",
     "text": [
      "[[[[ 0.54881352  0.71518934  0.60276335  0.54488319]\n",
      "   [ 0.42365479  0.64589411  0.4375872   0.89177299]\n",
      "   [ 0.96366274  0.38344151  0.79172504  0.5288949 ]]\n",
      "\n",
      "  [[ 0.56804454  0.92559665  0.07103606  0.0871293 ]\n",
      "   [ 0.0202184   0.83261985  0.77815676  0.87001216]\n",
      "   [ 0.97861832  0.79915857  0.46147937  0.7805292 ]]]]\n",
      "(1, 18, 3, 4)\n",
      "[ 0.41466194  0.43703195  0.10204481  0.36872518  0.12019656  0.9292962\n",
      "  0.27000797  0.29743695  0.60639322  0.65320081  0.99884701  0.45354268\n",
      "  0.0185218   0.61396593  0.25435647  0.8966713   0.87265068  0.02566272]\n"
     ]
    }
   ],
   "source": [
    "print net.blobs['data'].data\n",
    "\n",
    "print net.blobs['offset'].data.shape\n",
    "one_off = net.blobs['offset'].data[0,:,1,1]"
   ]
  },
  {
   "cell_type": "code",
   "execution_count": null,
   "metadata": {
    "collapsed": true
   },
   "outputs": [],
   "source": [
    "for i in range(3):\n",
    "    for j in range(3):\n",
    "        dx = one_off[(i*3 + j)*2 + 0]\n",
    "        dy = one_off[(i*3 + j)*2 + 1]\n",
    "        "
   ]
  },
  {
   "cell_type": "code",
   "execution_count": 7,
   "metadata": {},
   "outputs": [
    {
     "data": {
      "text/plain": [
       "{'data': array([[[[ 0.,  0.,  0.,  0.],\n",
       "          [ 0.,  0.,  0.,  0.],\n",
       "          [ 0.,  0.,  0.,  0.]],\n",
       " \n",
       "         [[ 0.,  0.,  0.,  0.],\n",
       "          [ 0.,  0.,  0.,  0.],\n",
       "          [ 0.,  0.,  0.,  0.]]]], dtype=float32),\n",
       " 'offset': array([[[[ 0.,  0.,  0.,  0.],\n",
       "          [ 0.,  0.,  0.,  0.],\n",
       "          [ 0.,  0.,  0.,  0.]],\n",
       " \n",
       "         [[ 0.,  0.,  0.,  0.],\n",
       "          [ 0.,  0.,  0.,  0.],\n",
       "          [ 0.,  0.,  0.,  0.]],\n",
       " \n",
       "         [[ 0.,  0.,  0.,  0.],\n",
       "          [ 0.,  0.,  0.,  0.],\n",
       "          [ 0.,  0.,  0.,  0.]],\n",
       " \n",
       "         [[ 0.,  0.,  0.,  0.],\n",
       "          [ 0.,  0.,  0.,  0.],\n",
       "          [ 0.,  0.,  0.,  0.]],\n",
       " \n",
       "         [[ 0.,  0.,  0.,  0.],\n",
       "          [ 0.,  0.,  0.,  0.],\n",
       "          [ 0.,  0.,  0.,  0.]],\n",
       " \n",
       "         [[ 0.,  0.,  0.,  0.],\n",
       "          [ 0.,  0.,  0.,  0.],\n",
       "          [ 0.,  0.,  0.,  0.]],\n",
       " \n",
       "         [[ 0.,  0.,  0.,  0.],\n",
       "          [ 0.,  0.,  0.,  0.],\n",
       "          [ 0.,  0.,  0.,  0.]],\n",
       " \n",
       "         [[ 0.,  0.,  0.,  0.],\n",
       "          [ 0.,  0.,  0.,  0.],\n",
       "          [ 0.,  0.,  0.,  0.]],\n",
       " \n",
       "         [[ 0.,  0.,  0.,  0.],\n",
       "          [ 0.,  0.,  0.,  0.],\n",
       "          [ 0.,  0.,  0.,  0.]],\n",
       " \n",
       "         [[ 0.,  0.,  0.,  0.],\n",
       "          [ 0.,  0.,  0.,  0.],\n",
       "          [ 0.,  0.,  0.,  0.]],\n",
       " \n",
       "         [[ 0.,  0.,  0.,  0.],\n",
       "          [ 0.,  0.,  0.,  0.],\n",
       "          [ 0.,  0.,  0.,  0.]],\n",
       " \n",
       "         [[ 0.,  0.,  0.,  0.],\n",
       "          [ 0.,  0.,  0.,  0.],\n",
       "          [ 0.,  0.,  0.,  0.]],\n",
       " \n",
       "         [[ 0.,  0.,  0.,  0.],\n",
       "          [ 0.,  0.,  0.,  0.],\n",
       "          [ 0.,  0.,  0.,  0.]],\n",
       " \n",
       "         [[ 0.,  0.,  0.,  0.],\n",
       "          [ 0.,  0.,  0.,  0.],\n",
       "          [ 0.,  0.,  0.,  0.]],\n",
       " \n",
       "         [[ 0.,  0.,  0.,  0.],\n",
       "          [ 0.,  0.,  0.,  0.],\n",
       "          [ 0.,  0.,  0.,  0.]],\n",
       " \n",
       "         [[ 0.,  0.,  0.,  0.],\n",
       "          [ 0.,  0.,  0.,  0.],\n",
       "          [ 0.,  0.,  0.,  0.]],\n",
       " \n",
       "         [[ 0.,  0.,  0.,  0.],\n",
       "          [ 0.,  0.,  0.,  0.],\n",
       "          [ 0.,  0.,  0.,  0.]],\n",
       " \n",
       "         [[ 0.,  0.,  0.,  0.],\n",
       "          [ 0.,  0.,  0.,  0.],\n",
       "          [ 0.,  0.,  0.,  0.]]]], dtype=float32)}"
      ]
     },
     "execution_count": 7,
     "metadata": {},
     "output_type": "execute_result"
    }
   ],
   "source": [
    "net.backward()"
   ]
  },
  {
   "cell_type": "code",
   "execution_count": null,
   "metadata": {
    "collapsed": true
   },
   "outputs": [],
   "source": []
  },
  {
   "cell_type": "code",
   "execution_count": 8,
   "metadata": {},
   "outputs": [
    {
     "name": "stdout",
     "output_type": "stream",
     "text": [
      "[[[[ 3.50684786  4.96174479  3.97533989]\n",
      "   [ 5.72071314  7.45452404  5.75224209]\n",
      "   [ 3.5450561   4.77297974  3.84305263]]\n",
      "\n",
      "  [[ 3.81871986  4.54260159  3.48325324]\n",
      "   [ 5.4475832   8.26427937  5.53287983]\n",
      "   [ 4.20452118  5.47684002  4.16371584]]]\n",
      "\n",
      "\n",
      " [[[ 3.50684786  4.96174479  3.97533989]\n",
      "   [ 5.72071314  7.45452404  5.75224209]\n",
      "   [ 3.5450561   4.77297974  3.84305263]]\n",
      "\n",
      "  [[ 3.81871986  4.54260159  3.48325324]\n",
      "   [ 5.4475832   8.26427937  5.53287983]\n",
      "   [ 4.20452118  5.47684002  4.16371584]]]]\n"
     ]
    }
   ],
   "source": [
    "print net.params['dconv'][0].diff"
   ]
  },
  {
   "cell_type": "code",
   "execution_count": 9,
   "metadata": {},
   "outputs": [
    {
     "name": "stdout",
     "output_type": "stream",
     "text": [
      "[[[[ 1.  1.  1.  1.]\n",
      "   [ 1.  1.  1.  1.]\n",
      "   [ 1.  1.  1.  1.]]\n",
      "\n",
      "  [[ 1.  1.  1.  1.]\n",
      "   [ 1.  1.  1.  1.]\n",
      "   [ 1.  1.  1.  1.]]]]\n"
     ]
    },
    {
     "ename": "KeyError",
     "evalue": "'input'",
     "output_type": "error",
     "traceback": [
      "\u001b[0;31m\u001b[0m",
      "\u001b[0;31mKeyError\u001b[0mTraceback (most recent call last)",
      "\u001b[0;32m<ipython-input-9-1b3f86e2a9fb>\u001b[0m in \u001b[0;36m<module>\u001b[0;34m()\u001b[0m\n\u001b[1;32m      1\u001b[0m \u001b[0;32mprint\u001b[0m \u001b[0mnet\u001b[0m\u001b[0;34m.\u001b[0m\u001b[0mblobs\u001b[0m\u001b[0;34m[\u001b[0m\u001b[0;34m'dconv'\u001b[0m\u001b[0;34m]\u001b[0m\u001b[0;34m.\u001b[0m\u001b[0mdiff\u001b[0m\u001b[0;34m\u001b[0m\u001b[0m\n\u001b[0;32m----> 2\u001b[0;31m \u001b[0;32mprint\u001b[0m \u001b[0mnet\u001b[0m\u001b[0;34m.\u001b[0m\u001b[0mblobs\u001b[0m\u001b[0;34m[\u001b[0m\u001b[0;34m'input'\u001b[0m\u001b[0;34m]\u001b[0m\u001b[0;34m.\u001b[0m\u001b[0mdiff\u001b[0m\u001b[0;34m\u001b[0m\u001b[0m\n\u001b[0m",
      "\u001b[0;31mKeyError\u001b[0m: 'input'"
     ]
    }
   ],
   "source": [
    "print net.blobs['dconv'].diff\n",
    "print net.blobs['input'].diff"
   ]
  },
  {
   "cell_type": "code",
   "execution_count": null,
   "metadata": {
    "collapsed": true
   },
   "outputs": [],
   "source": [
    "print net.blobs['offset'].diff"
   ]
  },
  {
   "cell_type": "code",
   "execution_count": null,
   "metadata": {
    "collapsed": true
   },
   "outputs": [],
   "source": []
  },
  {
   "cell_type": "code",
   "execution_count": null,
   "metadata": {
    "collapsed": true
   },
   "outputs": [],
   "source": []
  },
  {
   "cell_type": "code",
   "execution_count": null,
   "metadata": {
    "collapsed": true
   },
   "outputs": [],
   "source": []
  },
  {
   "cell_type": "code",
   "execution_count": null,
   "metadata": {
    "collapsed": true
   },
   "outputs": [],
   "source": [
    "import matplotlib.pyplot as plt\n",
    "%matplotlib inline"
   ]
  },
  {
   "cell_type": "code",
   "execution_count": null,
   "metadata": {
    "collapsed": true
   },
   "outputs": [],
   "source": [
    "x=[860,1147,1182,908,860]\n",
    "y=[288,180,238,385,288]\n",
    "plt.plot(x,y)\n",
    "plt.axis([800,1200,400,150])"
   ]
  },
  {
   "cell_type": "code",
   "execution_count": null,
   "metadata": {
    "collapsed": true
   },
   "outputs": [],
   "source": []
  }
 ],
 "metadata": {
  "anaconda-cloud": {},
  "kernelspec": {
   "display_name": "Python [default]",
   "language": "python",
   "name": "python2"
  },
  "language_info": {
   "codemirror_mode": {
    "name": "ipython",
    "version": 2
   },
   "file_extension": ".py",
   "mimetype": "text/x-python",
   "name": "python",
   "nbconvert_exporter": "python",
   "pygments_lexer": "ipython2",
   "version": "2.7.13"
  }
 },
 "nbformat": 4,
 "nbformat_minor": 2
}
