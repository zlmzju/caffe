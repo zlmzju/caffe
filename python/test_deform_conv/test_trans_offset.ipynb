{
 "cells": [
  {
   "cell_type": "code",
   "execution_count": 1,
   "metadata": {
    "collapsed": false
   },
   "outputs": [
    {
     "name": "stdout",
     "output_type": "stream",
     "text": [
      "AR -o .build_release/lib/libcaffe.a\n",
      "<module 'caffe' from '../caffe/__init__.py'>\n"
     ]
    }
   ],
   "source": [
    "import numpy as np\n",
    "import sys\n",
    "sys.path.insert(0,'../')\n",
    "!cd ../../;make -j12;cd python/test_deform_conv/\n",
    "import caffe\n",
    "print caffe"
   ]
  },
  {
   "cell_type": "code",
   "execution_count": 2,
   "metadata": {
    "collapsed": true
   },
   "outputs": [],
   "source": [
    "proto_str=\"\"\"\n",
    "input: \"matrix\"\n",
    "input_dim: 1\n",
    "input_dim: 8\n",
    "input_dim: 2\n",
    "input_dim: 2\n",
    "layer{\n",
    "    name: \"offset\"\n",
    "    type: \"TransformOffset\"\n",
    "    bottom: \"matrix\"\n",
    "    top: \"offset\"\n",
    "    transform_offset_param{\n",
    "        num_output: 8\n",
    "    }\n",
    "}\n",
    "\"\"\"\n",
    "proto_file=open('trans_offset.prototxt','w')\n",
    "proto_file.write(proto_str)\n",
    "proto_file.close()"
   ]
  },
  {
   "cell_type": "code",
   "execution_count": 3,
   "metadata": {
    "collapsed": true
   },
   "outputs": [],
   "source": [
    "caffe.set_mode_gpu()\n",
    "net = caffe.Net('trans_offset.prototxt', caffe.TEST)"
   ]
  },
  {
   "cell_type": "code",
   "execution_count": 4,
   "metadata": {
    "collapsed": false
   },
   "outputs": [
    {
     "name": "stdout",
     "output_type": "stream",
     "text": [
      "matrix.shape: (1, 8, 2, 2)\n",
      "offset.shape: (1, 8, 2, 2)\n"
     ]
    }
   ],
   "source": [
    "matrix=net.blobs['matrix'].data\n",
    "offset=net.blobs['offset'].data\n",
    "print 'matrix.shape:',matrix.shape\n",
    "print 'offset.shape:',offset.shape"
   ]
  },
  {
   "cell_type": "code",
   "execution_count": null,
   "metadata": {
    "collapsed": false
   },
   "outputs": [],
   "source": []
  },
  {
   "cell_type": "code",
   "execution_count": 7,
   "metadata": {
    "collapsed": false
   },
   "outputs": [
    {
     "name": "stdout",
     "output_type": "stream",
     "text": [
      "[[[[ 1.  1.]\n",
      "   [ 1.  1.]]\n",
      "\n",
      "  [[ 0.  0.]\n",
      "   [ 0.  0.]]\n",
      "\n",
      "  [[ 0.  0.]\n",
      "   [ 0.  0.]]\n",
      "\n",
      "  [[ 0.  0.]\n",
      "   [ 0.  0.]]\n",
      "\n",
      "  [[ 1.  1.]\n",
      "   [ 1.  1.]]\n",
      "\n",
      "  [[ 0.  0.]\n",
      "   [ 0.  0.]]\n",
      "\n",
      "  [[ 0.  0.]\n",
      "   [ 0.  0.]]\n",
      "\n",
      "  [[ 0.  0.]\n",
      "   [ 0.  0.]]]]\n"
     ]
    }
   ],
   "source": [
    "T = np.array([1, 0, 0,\n",
    "              0, 1, 0,\n",
    "              0, 0])\n",
    "temp = np.tile(T, (matrix.shape[0], matrix.shape[2], matrix.shape[3], 1))\n",
    "temp = temp.transpose(0, 3, 1, 2)\n",
    "matrix[:] = temp\n",
    "# data[:] = np.array([[[ [ 1, 1, 1, 1],\n",
    "#                        [ 1, 1, 1, 1],\n",
    "#                        [ 1, 1, 1, 1],\n",
    "#                        [ 1, 1, 1, 1]]]])\n",
    "# dweight[:]=np.array([[[ [ 1, 1],\n",
    "#                        [ 1,1]]]])\n",
    "print net.blobs['matrix'].data"
   ]
  },
  {
   "cell_type": "code",
   "execution_count": 8,
   "metadata": {
    "collapsed": false
   },
   "outputs": [
    {
     "data": {
      "text/plain": [
       "{'offset': array([[[[-0.5, -0.5],\n",
       "          [-0.5, -0.5]],\n",
       " \n",
       "         [[-0.5, -0.5],\n",
       "          [-0.5, -0.5]],\n",
       " \n",
       "         [[-0.5, -0.5],\n",
       "          [-0.5, -0.5]],\n",
       " \n",
       "         [[ 0.5,  0.5],\n",
       "          [ 0.5,  0.5]],\n",
       " \n",
       "         [[ 0.5,  0.5],\n",
       "          [ 0.5,  0.5]],\n",
       " \n",
       "         [[-0.5, -0.5],\n",
       "          [-0.5, -0.5]],\n",
       " \n",
       "         [[ 0.5,  0.5],\n",
       "          [ 0.5,  0.5]],\n",
       " \n",
       "         [[ 0.5,  0.5],\n",
       "          [ 0.5,  0.5]]]], dtype=float32)}"
      ]
     },
     "execution_count": 8,
     "metadata": {},
     "output_type": "execute_result"
    }
   ],
   "source": [
    "net.forward()"
   ]
  },
  {
   "cell_type": "code",
   "execution_count": null,
   "metadata": {
    "collapsed": true
   },
   "outputs": [],
   "source": []
  },
  {
   "cell_type": "code",
   "execution_count": null,
   "metadata": {
    "collapsed": true
   },
   "outputs": [],
   "source": []
  },
  {
   "cell_type": "code",
   "execution_count": null,
   "metadata": {
    "collapsed": true
   },
   "outputs": [],
   "source": []
  }
 ],
 "metadata": {
  "kernelspec": {
   "display_name": "Python 2",
   "language": "python",
   "name": "python2"
  },
  "language_info": {
   "codemirror_mode": {
    "name": "ipython",
    "version": 2
   },
   "file_extension": ".py",
   "mimetype": "text/x-python",
   "name": "python",
   "nbconvert_exporter": "python",
   "pygments_lexer": "ipython2",
   "version": "2.7.6"
  }
 },
 "nbformat": 4,
 "nbformat_minor": 2
}
